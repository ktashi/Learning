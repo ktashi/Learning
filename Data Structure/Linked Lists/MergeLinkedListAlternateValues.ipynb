{
 "cells": [
  {
   "cell_type": "code",
   "execution_count": 36,
   "metadata": {},
   "outputs": [],
   "source": [
    "from SinglyLinkedList import LinkedList, Node\n",
    "import pandas as pd\n",
    "df1 = pd.read_csv(r'C:\\Users\\amritt\\Google Interview Practice\\Data.csv')\n",
    "df2 = pd.read_csv(r'C:\\Users\\amritt\\Google Interview Practice\\Data1.csv')"
   ]
  },
  {
   "cell_type": "code",
   "execution_count": 41,
   "metadata": {},
   "outputs": [],
   "source": [
    "def merge(list1, list2, mergedList):\n",
    "    fList = list1.head\n",
    "    sList = list2.head\n",
    "    i = 0\n",
    "    while True:\n",
    "        if fList is None:\n",
    "            mergedList.insertEnd(sList)\n",
    "            break\n",
    "        elif sList is None:\n",
    "            mergedList.insertEnd(fList)\n",
    "            break\n",
    "        else:\n",
    "            fListNext = fList.next\n",
    "            fList.next = None\n",
    "            mergedList.insertEnd(fList)\n",
    "            fList = fListNext            \n",
    "            sListNext = sList.next            \n",
    "            sList.next = None            \n",
    "            mergedList.insertEnd(sList)           \n",
    "            sList = sListNext  "
   ]
  },
  {
   "cell_type": "code",
   "execution_count": 42,
   "metadata": {},
   "outputs": [
    {
     "name": "stdout",
     "output_type": "stream",
     "text": [
      "First List below:\n",
      "18\n",
      "20\n",
      "24\n",
      "28\n",
      "32\n",
      "36\n",
      "40\n",
      "44\n",
      "48\n",
      "Second List below:\n",
      "19\n",
      "25\n",
      "28\n",
      "30\n",
      "Final List below:\n",
      "18\n",
      "19\n",
      "20\n",
      "25\n",
      "24\n",
      "28\n",
      "28\n",
      "30\n",
      "32\n",
      "36\n",
      "40\n",
      "44\n",
      "48\n"
     ]
    }
   ],
   "source": [
    "linkedList1 = LinkedList()\n",
    "for i in df1['Number']:\n",
    "    iNode = Node(i)\n",
    "    linkedList1.insertEnd(iNode)\n",
    "print (\"First List below:\")\n",
    "linkedList1.printList()\n",
    "\n",
    "linkedList2 = LinkedList()\n",
    "for i in df2['Number']:\n",
    "    iNode = Node(i)\n",
    "    linkedList2.insertEnd(iNode)\n",
    "print (\"Second List below:\")\n",
    "linkedList2.printList()\n",
    "mergedList = LinkedList()\n",
    "merge(linkedList1, linkedList2, mergedList)\n",
    "print (\"Final List below:\")\n",
    "mergedList.printList()"
   ]
  },
  {
   "cell_type": "code",
   "execution_count": null,
   "metadata": {},
   "outputs": [],
   "source": []
  }
 ],
 "metadata": {
  "kernelspec": {
   "display_name": "Python 3",
   "language": "python",
   "name": "python3"
  },
  "language_info": {
   "codemirror_mode": {
    "name": "ipython",
    "version": 3
   },
   "file_extension": ".py",
   "mimetype": "text/x-python",
   "name": "python",
   "nbconvert_exporter": "python",
   "pygments_lexer": "ipython3",
   "version": "3.7.3"
  }
 },
 "nbformat": 4,
 "nbformat_minor": 2
}
