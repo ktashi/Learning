{
 "cells": [
  {
   "cell_type": "code",
   "execution_count": 2,
   "metadata": {},
   "outputs": [],
   "source": [
    "from SinglyLinkedList import LinkedList, Node\n",
    "import pandas as pd\n",
    "df = pd.read_csv(r'C:\\Users\\amritt\\Google Interview Practice\\Data.csv')"
   ]
  },
  {
   "cell_type": "code",
   "execution_count": 33,
   "metadata": {},
   "outputs": [],
   "source": [
    "# Reverse a list\n",
    "# first point curr node to head node to iterate through list\n",
    "\n",
    "def reverse(list1):\n",
    "    currNode = list1.head\n",
    "    prevNode = None\n",
    "    nextNode = None\n",
    "    while currNode:\n",
    "        nextNode = currNode.next\n",
    "        currNode.next = prevNode\n",
    "        prevNode = currNode\n",
    "        currNode = nextNode\n",
    "    list1.head = prevNode"
   ]
  },
  {
   "cell_type": "code",
   "execution_count": 34,
   "metadata": {},
   "outputs": [
    {
     "name": "stdout",
     "output_type": "stream",
     "text": [
      "First List below:\n",
      "18\n",
      "20\n",
      "24\n",
      "28\n",
      "32\n",
      "36\n",
      "40\n",
      "44\n",
      "48\n",
      "Final List below:\n",
      "48\n",
      "44\n",
      "40\n",
      "36\n",
      "32\n",
      "28\n",
      "24\n",
      "20\n",
      "18\n"
     ]
    }
   ],
   "source": [
    "linkedList = LinkedList()\n",
    "for i in df1['Number']:\n",
    "    iNode = Node(i)\n",
    "    linkedList.insertEnd(iNode)\n",
    "print (\"First List below:\")\n",
    "linkedList.printList()\n",
    "\n",
    "reverse(linkedList)\n",
    "print (\"Final List below:\")\n",
    "linkedList.printList()"
   ]
  },
  {
   "cell_type": "code",
   "execution_count": null,
   "metadata": {},
   "outputs": [],
   "source": []
  },
  {
   "cell_type": "code",
   "execution_count": null,
   "metadata": {},
   "outputs": [],
   "source": []
  }
 ],
 "metadata": {
  "kernelspec": {
   "display_name": "Python 3",
   "language": "python",
   "name": "python3"
  },
  "language_info": {
   "codemirror_mode": {
    "name": "ipython",
    "version": 3
   },
   "file_extension": ".py",
   "mimetype": "text/x-python",
   "name": "python",
   "nbconvert_exporter": "python",
   "pygments_lexer": "ipython3",
   "version": "3.7.3"
  }
 },
 "nbformat": 4,
 "nbformat_minor": 2
}
