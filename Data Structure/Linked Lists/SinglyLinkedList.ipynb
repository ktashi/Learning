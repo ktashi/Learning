{
 "cells": [
  {
   "cell_type": "markdown",
   "metadata": {},
   "source": [
    "Basics of Linked List"
   ]
  },
  {
   "cell_type": "code",
   "execution_count": 32,
   "metadata": {},
   "outputs": [],
   "source": [
    "# Create Node\n",
    "# Create Linked List\n",
    "# Add node to Link List\n",
    "# Print  a Link List\n",
    "# Add Fist Node\n",
    "# Iterate to find last node for adding a new node\n",
    "\n",
    "class Node:\n",
    "    def __init__(self,data):\n",
    "        self.data = data\n",
    "        self.next = None\n",
    "\n",
    "class LinkedList:\n",
    "    def __init__(self):\n",
    "        self.head=None\n",
    "        \n",
    "    # Get length of a Linked List\n",
    "    def length(self):\n",
    "        position = 0\n",
    "        currNode = self.head\n",
    "        while currNode.next is not None:\n",
    "            position +=1\n",
    "            currNode = currNode.next\n",
    "        return position\n",
    "    \n",
    "    # Insert at the end of Linked List\n",
    "    def insertEnd(self,newNode):\n",
    "        if self.head is None:\n",
    "            self.head = newNode\n",
    "        else:\n",
    "            lastNode = self.head\n",
    "            while True:\n",
    "                if lastNode.next is None:\n",
    "                    break\n",
    "                lastNode=lastNode.next\n",
    "            lastNode.next = newNode\n",
    "    \n",
    "    #Insert at specific location using index\n",
    "    def insertAt (self,newNode,position):\n",
    "        if position == 0:\n",
    "            self.insertHead(newNode)\n",
    "            return\n",
    "        elif position > self.length():\n",
    "            print(\"Entering at wrong place\")\n",
    "            return\n",
    "        currPos = 0\n",
    "        currNode = self.head\n",
    "        while currNode.next is not None:\n",
    "            if currPos == position:\n",
    "                break\n",
    "            currPos +=1\n",
    "            prevNode  = currNode\n",
    "            currNode = currNode.next\n",
    "        prevNode.next = newNode\n",
    "        newNode.next = currNode\n",
    "        \n",
    "    # Insert at the starting of Linked List        \n",
    "    def insertHead(self,newNode):\n",
    "        tempNode = self.head\n",
    "        self.head = newNode\n",
    "        self.head.next = tempNode\n",
    "        del tempNode\n",
    "    \n",
    "    # Print a message if List is empty\n",
    "    def printList(self):\n",
    "        if self.head is None:\n",
    "            print(\"List is Empty\")\n",
    "            return\n",
    "        currentNode = self.head\n",
    "        while True:\n",
    "            if currentNode is None:\n",
    "                break\n",
    "            print(currentNode.data)\n",
    "            currentNode = currentNode.next\n",
    "    \n",
    "    # Delete head of a Linked List\n",
    "    def delHead(self):\n",
    "        tempNode = self.head\n",
    "        tempNode = tempNode.next\n",
    "        self.head = tempNode\n",
    "        del tempNode\n",
    "    \n",
    "    # Delete from end of Linked List\n",
    "    def delEnd(self):\n",
    "        lastNode = self.head.next\n",
    "        while lastNode.next is not None:\n",
    "            prevNode = lastNode\n",
    "            lastNode = lastNode.next\n",
    "        prevNode.next = None\n",
    "        del lastNode"
   ]
  },
  {
   "cell_type": "code",
   "execution_count": 33,
   "metadata": {},
   "outputs": [],
   "source": [
    "import pandas as pd\n",
    "df = pd.read_csv(r'C:\\Users\\amritt\\Google Interview Practice\\Data.csv')\n"
   ]
  },
  {
   "cell_type": "code",
   "execution_count": 34,
   "metadata": {},
   "outputs": [
    {
     "name": "stdout",
     "output_type": "stream",
     "text": [
      "Entering at wrong place\n",
      "Entering at wrong place\n",
      "Entering at wrong place\n",
      "18\n"
     ]
    }
   ],
   "source": [
    "linkedList = LinkedList()\n",
    "for i in range(0,len(df)):\n",
    "    number = df['Number'][i]\n",
    "    position = df['Position'][i]\n",
    "    iNode = Node(number)\n",
    "    linkedList.insertAt(iNode,position)\n",
    "linkedList.printList()"
   ]
  },
  {
   "cell_type": "code",
   "execution_count": 35,
   "metadata": {},
   "outputs": [
    {
     "name": "stdout",
     "output_type": "stream",
     "text": [
      "List is Empty\n"
     ]
    }
   ],
   "source": [
    "linkedList.delHead()\n",
    "linkedList.printList()"
   ]
  },
  {
   "cell_type": "code",
   "execution_count": 91,
   "metadata": {},
   "outputs": [
    {
     "name": "stdout",
     "output_type": "stream",
     "text": [
      "20\n",
      "24\n"
     ]
    }
   ],
   "source": [
    "linkedList.delEnd()\n",
    "linkedList.printList()"
   ]
  }
 ],
 "metadata": {
  "kernelspec": {
   "display_name": "Python 3",
   "language": "python",
   "name": "python3"
  },
  "language_info": {
   "codemirror_mode": {
    "name": "ipython",
    "version": 3
   },
   "file_extension": ".py",
   "mimetype": "text/x-python",
   "name": "python",
   "nbconvert_exporter": "python",
   "pygments_lexer": "ipython3",
   "version": "3.7.3"
  }
 },
 "nbformat": 4,
 "nbformat_minor": 2
}
