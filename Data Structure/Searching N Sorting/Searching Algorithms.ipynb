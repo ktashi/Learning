{
 "cells": [
  {
   "cell_type": "markdown",
   "metadata": {},
   "source": [
    "### Searching Program"
   ]
  },
  {
   "cell_type": "code",
   "execution_count": 26,
   "metadata": {},
   "outputs": [],
   "source": [
    "# Linear search algorithms\n",
    "# iterate through list using length of string\n",
    "# if target matches return the index\n",
    "# if it not in list return -1\n",
    "\n",
    "def linearSearch (sList, target):\n",
    "    for i in range(len(sList)):\n",
    "        if sList[i]==target:\n",
    "            return i;\n",
    "    return -1"
   ]
  },
  {
   "cell_type": "code",
   "execution_count": 27,
   "metadata": {},
   "outputs": [],
   "source": [
    "# Binary Search Algorithms\n",
    "# Start with setting up low as 0 and high as length -1 of a string\n",
    "# itterate till low index is less than or equal to zero\n",
    "# Under loop slide low and high value using mid index as per comparison\n",
    "# return mid index if its value matches with target\n",
    "# if number is not in list return -1\n",
    "\n",
    "def binarySearch (sList, target):\n",
    "    low = 0\n",
    "    high = len(sList)\n",
    "    while (low <= high):\n",
    "        mid = int((low+high)/2)\n",
    "        if sList[mid] == target:\n",
    "            return mid\n",
    "        elif target < sList[mid]:\n",
    "            high = mid -1\n",
    "        else:\n",
    "            low =mid + 1\n",
    "    return -1"
   ]
  },
  {
   "cell_type": "code",
   "execution_count": 28,
   "metadata": {},
   "outputs": [
    {
     "name": "stdout",
     "output_type": "stream",
     "text": [
      "-1\n"
     ]
    }
   ],
   "source": [
    "aList = [25,24,29,30,60]\n",
    "a = binarySearch(aList,1)\n",
    "print(a)"
   ]
  },
  {
   "cell_type": "code",
   "execution_count": null,
   "metadata": {},
   "outputs": [],
   "source": []
  }
 ],
 "metadata": {
  "kernelspec": {
   "display_name": "Python 3",
   "language": "python",
   "name": "python3"
  },
  "language_info": {
   "codemirror_mode": {
    "name": "ipython",
    "version": 3
   },
   "file_extension": ".py",
   "mimetype": "text/x-python",
   "name": "python",
   "nbconvert_exporter": "python",
   "pygments_lexer": "ipython3",
   "version": "3.7.3"
  }
 },
 "nbformat": 4,
 "nbformat_minor": 2
}
