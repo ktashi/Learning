{
 "cells": [
  {
   "cell_type": "code",
   "execution_count": 15,
   "metadata": {},
   "outputs": [
    {
     "name": "stdout",
     "output_type": "stream",
     "text": [
      "1\n",
      "2\n",
      "3\n",
      "5\n",
      "4\n"
     ]
    }
   ],
   "source": [
    "# class node contain name of node, adjecentlist and visited flag\n",
    "class node(object):\n",
    "    def __init__(self,name):\n",
    "        self.name = name\n",
    "        self.adjecentList =[]\n",
    "        self.visited =False\n",
    "\n",
    "class breadthFirstSearch(object):\n",
    "    def bfs(self, newNode):\n",
    "        queue = []\n",
    "        queue.append(newNode)\n",
    "        newNode.visited = True\n",
    "        while queue:\n",
    "            actualNode = queue.pop(0)                \n",
    "            print(actualNode.name)\n",
    "            for n in actualNode.adjecentList:     \n",
    "                if not n.visited:\n",
    "                    n.visited = True\n",
    "                    queue.append(n)\n",
    "                    \n",
    "\n",
    "node1 = node('1')\n",
    "node2 = node('2')\n",
    "node3 = node('3')\n",
    "node4 = node('4')\n",
    "node5 = node('5')\n",
    "\n",
    "node1.adjecentList.append(node2)\n",
    "node1.adjecentList.append(node3)\n",
    "node2.adjecentList.append(node4)\n",
    "node1.adjecentList.append(node5)\n",
    "\n",
    "bfs = breadthFirstSearch()\n",
    "bfs.bfs(node1)\n",
    "                \n",
    "        "
   ]
  }
 ],
 "metadata": {
  "kernelspec": {
   "display_name": "Python 3",
   "language": "python",
   "name": "python3"
  },
  "language_info": {
   "codemirror_mode": {
    "name": "ipython",
    "version": 3
   },
   "file_extension": ".py",
   "mimetype": "text/x-python",
   "name": "python",
   "nbconvert_exporter": "python",
   "pygments_lexer": "ipython3",
   "version": "3.7.3"
  }
 },
 "nbformat": 4,
 "nbformat_minor": 2
}
