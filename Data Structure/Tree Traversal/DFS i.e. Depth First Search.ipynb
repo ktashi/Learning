{
 "cells": [
  {
   "cell_type": "code",
   "execution_count": 5,
   "metadata": {},
   "outputs": [
    {
     "name": "stdout",
     "output_type": "stream",
     "text": [
      "1\n",
      "2\n",
      "4\n",
      "5\n",
      "3\n"
     ]
    }
   ],
   "source": [
    "# class node contain name of node, adjecentlist and visited flag\n",
    "# recurssion is applied to solve dfs as recursion internally uses stack memory of operation system\n",
    "\n",
    "class node:\n",
    "    def __init__(self,name):\n",
    "        self.name = name\n",
    "        self.adjecentList = []\n",
    "        self. visited = False\n",
    "        \n",
    "class depthFirstSearch:\n",
    "    def dfs(self,node):\n",
    "        node.visited = True\n",
    "        print(node.name)\n",
    "        for n in node.adjecentList:\n",
    "            if not n.visited:\n",
    "                self.dfs(n)\n",
    "                \n",
    "node1 = node('1')\n",
    "node2 = node('2')\n",
    "node3 = node('3')\n",
    "node4 = node('4')\n",
    "node5 = node('5')\n",
    "\n",
    "node1.adjecentList.append(node2)\n",
    "node1.adjecentList.append(node3)\n",
    "node2.adjecentList.append(node4)\n",
    "node2.adjecentList.append(node5)\n",
    "\n",
    "dfs = depthFirstSearch()\n",
    "dfs.dfs(node1)"
   ]
  },
  {
   "cell_type": "code",
   "execution_count": null,
   "metadata": {},
   "outputs": [],
   "source": []
  }
 ],
 "metadata": {
  "kernelspec": {
   "display_name": "Python 3",
   "language": "python",
   "name": "python3"
  },
  "language_info": {
   "codemirror_mode": {
    "name": "ipython",
    "version": 3
   },
   "file_extension": ".py",
   "mimetype": "text/x-python",
   "name": "python",
   "nbconvert_exporter": "python",
   "pygments_lexer": "ipython3",
   "version": "3.7.3"
  }
 },
 "nbformat": 4,
 "nbformat_minor": 2
}
